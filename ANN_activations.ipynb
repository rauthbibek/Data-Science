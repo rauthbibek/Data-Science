{
 "cells": [
  {
   "cell_type": "code",
   "execution_count": 2,
   "id": "e566bb7f",
   "metadata": {},
   "outputs": [],
   "source": [
    "import tensorflow as tf\n",
    "from tensorflow import keras\n",
    "from tensorflow.keras.datasets import mnist\n",
    "from tensorflow.keras.models import Sequential\n",
    "from tensorflow.keras.layers import Dense, Dropout\n",
    "from tensorflow.keras.optimizers import RMSprop\n"
   ]
  },
  {
   "cell_type": "code",
   "execution_count": 10,
   "id": "fab9fbf4",
   "metadata": {},
   "outputs": [],
   "source": [
    "\n",
    "%matplotlib inline\n",
    "import matplotlib.pyplot as plt"
   ]
  },
  {
   "cell_type": "code",
   "execution_count": 17,
   "id": "60d243e8",
   "metadata": {},
   "outputs": [],
   "source": [
    "#loading mnist data from keras\n",
    "(x_train, y_train), (x_test, y_test) = mnist.load_data()"
   ]
  },
  {
   "cell_type": "code",
   "execution_count": 14,
   "id": "c02e7b05",
   "metadata": {},
   "outputs": [
    {
     "data": {
      "text/plain": [
       "((60000, 28, 28), (10000, 28, 28), (60000,), (10000,))"
      ]
     },
     "execution_count": 14,
     "metadata": {},
     "output_type": "execute_result"
    }
   ],
   "source": [
    "x_train.shape, x_test.shape, y_train.shape, y_test.shape"
   ]
  },
  {
   "cell_type": "code",
   "execution_count": 18,
   "id": "d8ba3130",
   "metadata": {},
   "outputs": [],
   "source": [
    "n_class= 10\n",
    "#Reshape and change the type as float\n",
    "#28*28=784\n",
    "x_train = x_train.reshape(60000, 784)\n",
    "x_test = x_test.reshape(10000, 784)\n",
    "x_train = x_train.astype('float32')\n",
    "x_test = x_test.astype('float32')\n",
    "#Normalizing train and test inputs\n",
    "x_train /=255\n",
    "x_test /=255\n",
    "\n",
    "#labeling the categorical labels\n",
    "y_train = keras.utils.to_categorical(y_train, n_class)\n",
    "y_test = keras.utils.to_categorical(y_test, n_class)\n",
    "\n"
   ]
  },
  {
   "cell_type": "code",
   "execution_count": 19,
   "id": "b6922d36",
   "metadata": {},
   "outputs": [
    {
     "data": {
      "text/plain": [
       "((60000, 784), (10000, 784), (60000, 10), (10000, 10))"
      ]
     },
     "execution_count": 19,
     "metadata": {},
     "output_type": "execute_result"
    }
   ],
   "source": [
    "x_train.shape, x_test.shape, y_train.shape, y_test.shape"
   ]
  },
  {
   "cell_type": "code",
   "execution_count": 22,
   "id": "1f4a4d87",
   "metadata": {},
   "outputs": [
    {
     "name": "stdout",
     "output_type": "stream",
     "text": [
      "Epoch 1/10\n",
      "375/375 [==============================] - 2s 6ms/step - loss: 0.4001 - accuracy: 0.8849 - val_loss: 0.3033 - val_accuracy: 0.9172\n",
      "Epoch 2/10\n",
      "375/375 [==============================] - 2s 5ms/step - loss: 0.3092 - accuracy: 0.9112 - val_loss: 0.2877 - val_accuracy: 0.9214\n",
      "Epoch 3/10\n",
      "375/375 [==============================] - 2s 6ms/step - loss: 0.2961 - accuracy: 0.9171 - val_loss: 0.2707 - val_accuracy: 0.9259\n",
      "Epoch 4/10\n",
      "375/375 [==============================] - 2s 6ms/step - loss: 0.2871 - accuracy: 0.9201 - val_loss: 0.2888 - val_accuracy: 0.9222\n",
      "Epoch 5/10\n",
      "375/375 [==============================] - 2s 6ms/step - loss: 0.2830 - accuracy: 0.9211 - val_loss: 0.2713 - val_accuracy: 0.9273\n",
      "Epoch 6/10\n",
      "375/375 [==============================] - 2s 6ms/step - loss: 0.2777 - accuracy: 0.9230 - val_loss: 0.2803 - val_accuracy: 0.9252\n",
      "Epoch 7/10\n",
      "375/375 [==============================] - 2s 5ms/step - loss: 0.2739 - accuracy: 0.9237 - val_loss: 0.2876 - val_accuracy: 0.9201\n",
      "Epoch 8/10\n",
      "375/375 [==============================] - 2s 5ms/step - loss: 0.2718 - accuracy: 0.9251 - val_loss: 0.2752 - val_accuracy: 0.9258\n",
      "Epoch 9/10\n",
      "375/375 [==============================] - 2s 5ms/step - loss: 0.2700 - accuracy: 0.9251 - val_loss: 0.2756 - val_accuracy: 0.9277\n",
      "Epoch 10/10\n",
      "375/375 [==============================] - 2s 5ms/step - loss: 0.2669 - accuracy: 0.9253 - val_loss: 0.2792 - val_accuracy: 0.9252\n",
      "313/313 [==============================] - 1s 2ms/step - loss: 0.2907 - accuracy: 0.9224\n",
      "Epoch 1/10\n",
      "375/375 [==============================] - 2s 6ms/step - loss: 0.5067 - accuracy: 0.8707 - val_loss: 0.2766 - val_accuracy: 0.9217\n",
      "Epoch 2/10\n",
      "375/375 [==============================] - 2s 6ms/step - loss: 0.2603 - accuracy: 0.9245 - val_loss: 0.2203 - val_accuracy: 0.9374\n",
      "Epoch 3/10\n",
      "375/375 [==============================] - 2s 6ms/step - loss: 0.2092 - accuracy: 0.9386 - val_loss: 0.1896 - val_accuracy: 0.9458\n",
      "Epoch 4/10\n",
      "375/375 [==============================] - 2s 6ms/step - loss: 0.1733 - accuracy: 0.9496 - val_loss: 0.1606 - val_accuracy: 0.9537\n",
      "Epoch 5/10\n",
      "375/375 [==============================] - 2s 5ms/step - loss: 0.1464 - accuracy: 0.9569 - val_loss: 0.1449 - val_accuracy: 0.9584\n",
      "Epoch 6/10\n",
      "375/375 [==============================] - 2s 6ms/step - loss: 0.1260 - accuracy: 0.9632 - val_loss: 0.1319 - val_accuracy: 0.9609\n",
      "Epoch 7/10\n",
      "375/375 [==============================] - 2s 6ms/step - loss: 0.1096 - accuracy: 0.9686 - val_loss: 0.1238 - val_accuracy: 0.9626\n",
      "Epoch 8/10\n",
      "375/375 [==============================] - 2s 6ms/step - loss: 0.0962 - accuracy: 0.9724 - val_loss: 0.1126 - val_accuracy: 0.9669\n",
      "Epoch 9/10\n",
      "375/375 [==============================] - 2s 6ms/step - loss: 0.0849 - accuracy: 0.9760 - val_loss: 0.1105 - val_accuracy: 0.9668\n",
      "Epoch 10/10\n",
      "375/375 [==============================] - 2s 6ms/step - loss: 0.0758 - accuracy: 0.9790 - val_loss: 0.1054 - val_accuracy: 0.9681\n",
      "313/313 [==============================] - 1s 2ms/step - loss: 0.0973 - accuracy: 0.9708\n",
      "Epoch 1/10\n",
      "375/375 [==============================] - 2s 6ms/step - loss: 0.3663 - accuracy: 0.8946 - val_loss: 0.2367 - val_accuracy: 0.9312\n",
      "Epoch 2/10\n",
      "375/375 [==============================] - 2s 5ms/step - loss: 0.2004 - accuracy: 0.9421 - val_loss: 0.1719 - val_accuracy: 0.9517\n",
      "Epoch 3/10\n",
      "375/375 [==============================] - 2s 6ms/step - loss: 0.1416 - accuracy: 0.9584 - val_loss: 0.1331 - val_accuracy: 0.9626\n",
      "Epoch 4/10\n",
      "375/375 [==============================] - 2s 5ms/step - loss: 0.1071 - accuracy: 0.9689 - val_loss: 0.1143 - val_accuracy: 0.9671\n",
      "Epoch 5/10\n",
      "375/375 [==============================] - 2s 6ms/step - loss: 0.0851 - accuracy: 0.9756 - val_loss: 0.1080 - val_accuracy: 0.9684\n",
      "Epoch 6/10\n",
      "375/375 [==============================] - 2s 6ms/step - loss: 0.0687 - accuracy: 0.9804 - val_loss: 0.0931 - val_accuracy: 0.9719\n",
      "Epoch 7/10\n",
      "375/375 [==============================] - 2s 5ms/step - loss: 0.0559 - accuracy: 0.9838 - val_loss: 0.0878 - val_accuracy: 0.9728\n",
      "Epoch 8/10\n",
      "375/375 [==============================] - 2s 5ms/step - loss: 0.0456 - accuracy: 0.9875 - val_loss: 0.0854 - val_accuracy: 0.9758\n",
      "Epoch 9/10\n",
      "375/375 [==============================] - 2s 5ms/step - loss: 0.0378 - accuracy: 0.9894 - val_loss: 0.0825 - val_accuracy: 0.9755\n",
      "Epoch 10/10\n",
      "375/375 [==============================] - 2s 6ms/step - loss: 0.0311 - accuracy: 0.9921 - val_loss: 0.0812 - val_accuracy: 0.9751\n",
      "313/313 [==============================] - 1s 2ms/step - loss: 0.0750 - accuracy: 0.9774\n",
      "Epoch 1/10\n",
      "375/375 [==============================] - 3s 7ms/step - loss: 0.3278 - accuracy: 0.9094 - val_loss: 0.1740 - val_accuracy: 0.9506\n",
      "Epoch 2/10\n",
      "375/375 [==============================] - 2s 7ms/step - loss: 0.1463 - accuracy: 0.9580 - val_loss: 0.1199 - val_accuracy: 0.9660\n",
      "Epoch 3/10\n",
      "375/375 [==============================] - 2s 6ms/step - loss: 0.1000 - accuracy: 0.9713 - val_loss: 0.1081 - val_accuracy: 0.9686\n",
      "Epoch 4/10\n",
      "375/375 [==============================] - 2s 6ms/step - loss: 0.0739 - accuracy: 0.9786 - val_loss: 0.0938 - val_accuracy: 0.9721\n",
      "Epoch 5/10\n",
      "375/375 [==============================] - 2s 6ms/step - loss: 0.0580 - accuracy: 0.9827 - val_loss: 0.0924 - val_accuracy: 0.9734\n",
      "Epoch 6/10\n",
      "375/375 [==============================] - 2s 6ms/step - loss: 0.0464 - accuracy: 0.9868 - val_loss: 0.0876 - val_accuracy: 0.9746\n",
      "Epoch 7/10\n",
      "375/375 [==============================] - 2s 6ms/step - loss: 0.0375 - accuracy: 0.9892 - val_loss: 0.0835 - val_accuracy: 0.9767\n",
      "Epoch 8/10\n",
      "375/375 [==============================] - 2s 6ms/step - loss: 0.0300 - accuracy: 0.9912 - val_loss: 0.0853 - val_accuracy: 0.9771\n",
      "Epoch 9/10\n",
      "375/375 [==============================] - 2s 6ms/step - loss: 0.0245 - accuracy: 0.9931 - val_loss: 0.0813 - val_accuracy: 0.9784\n",
      "Epoch 10/10\n",
      "375/375 [==============================] - 2s 6ms/step - loss: 0.0194 - accuracy: 0.9951 - val_loss: 0.0856 - val_accuracy: 0.9775\n",
      "313/313 [==============================] - 1s 2ms/step - loss: 0.0740 - accuracy: 0.9776\n"
     ]
    },
    {
     "data": {
      "text/plain": [
       "<matplotlib.legend.Legend at 0x1c18dad52b0>"
      ]
     },
     "execution_count": 22,
     "metadata": {},
     "output_type": "execute_result"
    },
    {
     "data": {
      "image/png": "[encoded data removed]",
      "text/plain": [
       "<Figure size 432x288 with 1 Axes>"
      ]
     },
     "metadata": {
      "needs_background": "light"
     },
     "output_type": "display_data"
    }
   ],
   "source": [
    "activation_perf={}\n",
    "(inputShape, num_class, act_list)= (784,), 10 ,[None, 'sigmoid', 'tanh', 'relu']\n",
    "for act in act_list:\n",
    "    model = Sequential()\n",
    "    model.add(Dense(256, input_shape=inputShape, activation= act, name='Layer_1'))\n",
    "    model.add(Dense(num_class,activation= 'softmax', name='Layer_2'))\n",
    "        \n",
    "    model.compile(loss='categorical_crossentropy', optimizer= RMSprop(), metrics = ['accuracy'])\n",
    "        \n",
    "    history = model.fit(x_train, y_train,\n",
    "                    batch_size=128,\n",
    "                    epochs=10,\n",
    "                    verbose=1,\n",
    "                    validation_split=0.2)\n",
    "        \n",
    "    test_loss, test_acc = model.evaluate(x_test, y_test)\n",
    "    activation_perf[act]=test_acc\n",
    "        \n",
    "    plt.plot(history.history['val_accuracy'])\n",
    "    \n",
    "plt.title('model loss')\n",
    "plt.ylabel('loss')\n",
    "plt.xlabel('epoch')\n",
    "plt.legend(['None', 'sigmoid', 'tanh', 'relu'], loc='upper left')\n",
    "        "
   ]
  },
  {
   "cell_type": "code",
   "execution_count": 23,
   "id": "c94ba467",
   "metadata": {},
   "outputs": [
    {
     "data": {
      "text/plain": [
       "{None: 0.9223999977111816,\n",
       " 'sigmoid': 0.97079998254776,\n",
       " 'tanh': 0.977400004863739,\n",
       " 'relu': 0.9775999784469604}"
      ]
     },
     "execution_count": 23,
     "metadata": {},
     "output_type": "execute_result"
    }
   ],
   "source": [
    "activation_perf"
   ]
  },
  {
   "cell_type": "code",
   "execution_count": null,
   "id": "2eb428eb",
   "metadata": {},
   "outputs": [],
   "source": []
  }
 ],
 "metadata": {
  "kernelspec": {
   "display_name": "Python 3",
   "language": "python",
   "name": "python3"
  },
  "language_info": {
   "codemirror_mode": {
    "name": "ipython",
    "version": 3
   },
   "file_extension": ".py",
   "mimetype": "text/x-python",
   "name": "python",
   "nbconvert_exporter": "python",
   "pygments_lexer": "ipython3",
   "version": "3.8.8"
  }
 },
 "nbformat": 4,
 "nbformat_minor": 5
}
